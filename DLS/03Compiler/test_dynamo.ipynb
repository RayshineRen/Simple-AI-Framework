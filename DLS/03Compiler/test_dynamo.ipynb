{
 "cells": [
  {
   "cell_type": "code",
   "execution_count": 3,
   "metadata": {},
   "outputs": [],
   "source": [
    "from typing import List\n",
    "import torch\n",
    "import torch._dynamo as dynamo"
   ]
  },
  {
   "cell_type": "code",
   "execution_count": 4,
   "metadata": {},
   "outputs": [
    {
     "name": "stdout",
     "output_type": "stream",
     "text": [
      "my_compiler() called with FX graph:\n",
      "opcode         name    target                                                  args         kwargs\n",
      "-------------  ------  ------------------------------------------------------  -----------  --------\n",
      "placeholder    l_a_    L_a_                                                    ()           {}\n",
      "placeholder    l_b_    L_b_                                                    ()           {}\n",
      "call_function  abs_1   <built-in method abs of type object at 0x7f66b9e81840>  (l_a_,)      {}\n",
      "call_function  add     <built-in function add>                                 (abs_1, 1)   {}\n",
      "call_function  x       <built-in function truediv>                             (l_a_, add)  {}\n",
      "call_method    sum_1   sum                                                     (l_b_,)      {}\n",
      "call_function  lt      <built-in function lt>                                  (sum_1, 0)   {}\n",
      "output         output  output                                                  ((x, lt),)   {}\n",
      "my_compiler() called with FX graph:\n",
      "opcode         name    target                   args         kwargs\n",
      "-------------  ------  -----------------------  -----------  --------\n",
      "placeholder    l_b_    L_b_                     ()           {}\n",
      "placeholder    l_x_    L_x_                     ()           {}\n",
      "call_function  b       <built-in function mul>  (l_b_, -1)   {}\n",
      "call_function  mul_1   <built-in function mul>  (l_x_, b)    {}\n",
      "output         output  output                   ((mul_1,),)  {}\n"
     ]
    },
    {
     "data": {
      "text/plain": [
       "tensor([ 0.8042,  0.2048, -0.0870, -0.1531, -0.7538,  0.0711, -0.2518, -0.0065,\n",
       "         0.4528,  0.0271])"
      ]
     },
     "execution_count": 4,
     "metadata": {},
     "output_type": "execute_result"
    }
   ],
   "source": [
    "dynamo.config.suppress_errors = True\n",
    "\n",
    "def my_compiler(gm: torch.fx.GraphModule, example_inputs: List[torch.tensor]):\n",
    "    print(\"my_compiler() called with FX graph:\")\n",
    "    gm.graph.print_tabular()\n",
    "    return gm.forward  # return a python callable\n",
    "\n",
    "@dynamo.optimize(my_compiler)\n",
    "def foo(a, b):\n",
    "    x = a / (torch.abs(a) + 1)\n",
    "    if b.sum() < 0:\n",
    "        b = b * -1\n",
    "    return x * b\n",
    "foo(torch.randn(10), torch.randn(10))"
   ]
  },
  {
   "cell_type": "code",
   "execution_count": 5,
   "metadata": {},
   "outputs": [
    {
     "name": "stdout",
     "output_type": "stream",
     "text": [
      "['cudagraphs', 'inductor', 'onnxrt', 'openxla', 'openxla_eval', 'tvm']\n"
     ]
    }
   ],
   "source": [
    "print(torch._dynamo.list_backends())"
   ]
  }
 ],
 "metadata": {
  "kernelspec": {
   "display_name": "llm",
   "language": "python",
   "name": "python3"
  },
  "language_info": {
   "codemirror_mode": {
    "name": "ipython",
    "version": 3
   },
   "file_extension": ".py",
   "mimetype": "text/x-python",
   "name": "python",
   "nbconvert_exporter": "python",
   "pygments_lexer": "ipython3",
   "version": "3.9.18"
  }
 },
 "nbformat": 4,
 "nbformat_minor": 2
}
