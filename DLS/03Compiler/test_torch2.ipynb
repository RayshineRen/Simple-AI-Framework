{
 "cells": [
  {
   "cell_type": "code",
   "execution_count": 1,
   "metadata": {},
   "outputs": [
    {
     "name": "stderr",
     "output_type": "stream",
     "text": [
      "/home/ray/code/chat/llm/lib/python3.9/site-packages/tqdm/auto.py:21: TqdmWarning: IProgress not found. Please update jupyter and ipywidgets. See https://ipywidgets.readthedocs.io/en/stable/user_install.html\n",
      "  from .autonotebook import tqdm as notebook_tqdm\n"
     ]
    }
   ],
   "source": [
    "import time\n",
    "import torch\n",
    "import torch._dynamo as dynamo\n",
    "import torchvision.models as models"
   ]
  },
  {
   "cell_type": "code",
   "execution_count": 2,
   "metadata": {},
   "outputs": [],
   "source": [
    "def foo(x, y):\n",
    "    a = torch.sin(x)\n",
    "    b = torch.cos(x)\n",
    "    return a + b"
   ]
  },
  {
   "cell_type": "code",
   "execution_count": 3,
   "metadata": {},
   "outputs": [
    {
     "name": "stdout",
     "output_type": "stream",
     "text": [
      "3.6635050773620605\n"
     ]
    }
   ],
   "source": [
    "compiled_model = torch.compile(foo)\n",
    "start = time.time()\n",
    "out = compiled_model(torch.randn(10, 10), torch.randn(10, 10))\n",
    "end = time.time()\n",
    "print(end - start)"
   ]
  },
  {
   "cell_type": "code",
   "execution_count": 4,
   "metadata": {},
   "outputs": [
    {
     "name": "stdout",
     "output_type": "stream",
     "text": [
      "0.03625226020812988\n"
     ]
    }
   ],
   "source": [
    "opt_foo1 = dynamo.optimize(\"inductor\")(foo)\n",
    "start = time.time()\n",
    "result = opt_foo1(torch.randn(10, 10), torch.randn(10, 10))\n",
    "end = time.time()\n",
    "print(end - start)"
   ]
  },
  {
   "cell_type": "code",
   "execution_count": 5,
   "metadata": {},
   "outputs": [
    {
     "name": "stdout",
     "output_type": "stream",
     "text": [
      "0.0009148120880126953\n"
     ]
    }
   ],
   "source": [
    "start = time.time()\n",
    "result = foo(torch.randn(10, 10), torch.randn(10, 10))\n",
    "end = time.time()\n",
    "print(end - start)"
   ]
  },
  {
   "cell_type": "code",
   "execution_count": 6,
   "metadata": {},
   "outputs": [
    {
     "name": "stdout",
     "output_type": "stream",
     "text": [
      "1.5946545600891113\n"
     ]
    }
   ],
   "source": [
    "model = models.alexnet()\n",
    "optimizer = torch.optim.SGD(model.parameters(), lr=0.01)\n",
    "compiled_model = torch.compile(model)\n",
    "x = torch.randn(16, 3, 224, 224)\n",
    "optimizer.zero_grad()\n",
    "\n",
    "start = time.time()\n",
    "out = compiled_model(x)\n",
    "out.sum().backward()\n",
    "optimizer.step()\n",
    "end = time.time()\n",
    "print(end - start)"
   ]
  },
  {
   "cell_type": "code",
   "execution_count": 7,
   "metadata": {},
   "outputs": [
    {
     "name": "stdout",
     "output_type": "stream",
     "text": [
      "0.21536564826965332\n"
     ]
    }
   ],
   "source": [
    "start = time.time()\n",
    "out = model(x)\n",
    "out.sum().backward()\n",
    "optimizer.step()\n",
    "end = time.time()\n",
    "print(end - start)"
   ]
  },
  {
   "cell_type": "code",
   "execution_count": 8,
   "metadata": {},
   "outputs": [
    {
     "name": "stdout",
     "output_type": "stream",
     "text": [
      "Finished Training: 0.19880270957946777\n",
      "Finished Training: 0.19921612739562988\n",
      "Finished Training: 0.19353675842285156\n",
      "Finished Training: 0.19151687622070312\n",
      "Finished Training: 0.19006848335266113\n",
      "Finished Training: 0.19156360626220703\n",
      "Finished Training: 0.19502758979797363\n",
      "Finished Training: 0.19385814666748047\n",
      "Finished Training: 0.1936194896697998\n",
      "Finished Training: 0.20826220512390137\n",
      "0.19554719924926758\n"
     ]
    }
   ],
   "source": [
    "count = []\n",
    "for epoch in range(10):\n",
    "    start = time.time()\n",
    "    out = model(x)\n",
    "    out.sum().backward()\n",
    "    optimizer.step()\n",
    "    end = time.time()\n",
    "    count.append(end - start)\n",
    "    print('Finished Training:', end - start)\n",
    "print(sum(count)/len(count))"
   ]
  },
  {
   "cell_type": "code",
   "execution_count": 9,
   "metadata": {},
   "outputs": [
    {
     "name": "stdout",
     "output_type": "stream",
     "text": [
      "Finished Training: 0.19549965858459473\n",
      "Finished Training: 0.1931750774383545\n",
      "Finished Training: 0.19072818756103516\n",
      "Finished Training: 0.18522953987121582\n",
      "Finished Training: 0.1881251335144043\n",
      "Finished Training: 0.18946194648742676\n",
      "Finished Training: 0.18743181228637695\n",
      "Finished Training: 0.1903071403503418\n",
      "Finished Training: 0.1918036937713623\n",
      "Finished Training: 0.20378661155700684\n",
      "0.19155488014221192\n"
     ]
    }
   ],
   "source": [
    "count = []\n",
    "for epoch in range(10):\n",
    "    start = time.time()\n",
    "    out = compiled_model(x)\n",
    "    out.sum().backward()\n",
    "    optimizer.step()\n",
    "    end = time.time()\n",
    "    count.append(end - start)\n",
    "    print('Finished Training:', end - start)\n",
    "print(sum(count)/len(count))"
   ]
  },
  {
   "cell_type": "code",
   "execution_count": 10,
   "metadata": {},
   "outputs": [],
   "source": [
    "from torch.fx import symbolic_trace, GraphModule"
   ]
  },
  {
   "cell_type": "code",
   "execution_count": 13,
   "metadata": {},
   "outputs": [
    {
     "name": "stdout",
     "output_type": "stream",
     "text": [
      "graph():\n",
      "    %x : [num_users=2] = placeholder[target=x]\n",
      "    %y : [num_users=0] = placeholder[target=y]\n",
      "    %sin : [num_users=1] = call_function[target=torch.sin](args = (%x,), kwargs = {})\n",
      "    %cos : [num_users=1] = call_function[target=torch.cos](args = (%x,), kwargs = {})\n",
      "    %add : [num_users=1] = call_function[target=operator.add](args = (%sin, %cos), kwargs = {})\n",
      "    return add\n"
     ]
    }
   ],
   "source": [
    "traced = symbolic_trace(foo)\n",
    "print(traced.graph)"
   ]
  }
 ],
 "metadata": {
  "kernelspec": {
   "display_name": "llm",
   "language": "python",
   "name": "python3"
  },
  "language_info": {
   "codemirror_mode": {
    "name": "ipython",
    "version": 3
   },
   "file_extension": ".py",
   "mimetype": "text/x-python",
   "name": "python",
   "nbconvert_exporter": "python",
   "pygments_lexer": "ipython3",
   "version": "3.9.18"
  }
 },
 "nbformat": 4,
 "nbformat_minor": 2
}
